{
 "cells": [
  {
   "cell_type": "code",
   "execution_count": 1,
   "id": "d975ad71",
   "metadata": {},
   "outputs": [
    {
     "name": "stdout",
     "output_type": "stream",
     "text": [
      "Cloning into 'email-bot-comprehend-class'...\n",
      "remote: Enumerating objects: 12, done.\u001b[K\n",
      "remote: Counting objects: 100% (12/12), done.\u001b[K\n",
      "remote: Compressing objects: 100% (12/12), done.\u001b[K\n",
      "Unpacking objects: 100% (12/12), done.\n",
      "remote: Total 12 (delta 5), reused 0 (delta 0), pack-reused 0\u001b[K\n"
     ]
    }
   ],
   "source": [
    "#Download the file from github\n",
    "!git clone https://github.com/god441347/email-bot-comprehend-class.git\n",
    "!mkdir email-bot-comprehend-class/data\n",
    "!mv ./email-bot-comprehend-class/Comprehend_Training_Data.csv ./email-bot-comprehend-class/data/\n",
    "\n",
    "\n",
    "from sagemaker import get_execution_role\n"
   ]
  },
  {
   "cell_type": "code",
   "execution_count": 2,
   "id": "1594a5eb",
   "metadata": {},
   "outputs": [
    {
     "data": {
      "text/plain": [
       "'arn:aws:iam::709753484661:role/service-role/AmazonSageMaker-ExecutionRole-20210513T160706'"
      ]
     },
     "execution_count": 2,
     "metadata": {},
     "output_type": "execute_result"
    }
   ],
   "source": [
    "role = get_execution_role()\n",
    "role\n",
    "# S3 prefix\n",
    "prefix = 'email-classification'\n",
    "role"
   ]
  },
  {
   "cell_type": "code",
   "execution_count": 3,
   "id": "ad57566d",
   "metadata": {},
   "outputs": [
    {
     "data": {
      "text/plain": [
       "'s3://sagemaker-us-west-2-709753484661/email-classification'"
      ]
     },
     "execution_count": 3,
     "metadata": {},
     "output_type": "execute_result"
    }
   ],
   "source": [
    "\n",
    "import sagemaker as sage\n",
    "sess = sage.Session()\n",
    "WORK_DIRECTORY = 'email-bot-comprehend-class/data'\n",
    "#loading the data to s3 bucket\n",
    "data_location = sess.upload_data(WORK_DIRECTORY, key_prefix=prefix)\n",
    "data_location"
   ]
  },
  {
   "cell_type": "code",
   "execution_count": 25,
   "id": "ebc96824",
   "metadata": {},
   "outputs": [],
   "source": [
    "#Create email classification training job\n",
    "import boto3\n",
    "\n",
    "client = boto3.client('comprehend')\n",
    "\n",
    "response = client.create_document_classifier(\n",
    "    DocumentClassifierName='email-classifications-1',\n",
    "    DataAccessRoleArn=role,\n",
    "    InputDataConfig={\n",
    "        'S3Uri': data_location\n",
    "    },\n",
    "    #ClientRequestToken='string',\n",
    "    LanguageCode='en'\n",
    ")"
   ]
  },
  {
   "cell_type": "code",
   "execution_count": 34,
   "id": "6a546733",
   "metadata": {},
   "outputs": [
    {
     "name": "stdout",
     "output_type": "stream",
     "text": [
      "arn:aws:comprehend:us-west-2:709753484661:document-classifier/email-classifications-1\n",
      "{'DocumentClassifierArn': 'arn:aws:comprehend:us-west-2:709753484661:document-classifier/email-classifications-1', 'ResponseMetadata': {'RequestId': '984db751-58fa-4be1-bdd4-9e25d33d32e5', 'HTTPStatusCode': 200, 'HTTPHeaders': {'x-amzn-requestid': '984db751-58fa-4be1-bdd4-9e25d33d32e5', 'content-type': 'application/x-amz-json-1.1', 'content-length': '113', 'date': 'Fri, 14 May 2021 00:04:57 GMT'}, 'RetryAttempts': 0}}\n",
      "TRAINING\n",
      "Training started\n",
      ".\n",
      ".\n"
     ]
    },
    {
     "ename": "KeyboardInterrupt",
     "evalue": "",
     "output_type": "error",
     "traceback": [
      "\u001b[0;31m---------------------------------------------------------------------------\u001b[0m",
      "\u001b[0;31mKeyboardInterrupt\u001b[0m                         Traceback (most recent call last)",
      "\u001b[0;32m<ipython-input-34-d0d1cd030506>\u001b[0m in \u001b[0;36m<module>\u001b[0;34m\u001b[0m\n\u001b[1;32m     11\u001b[0m \u001b[0;32mwhile\u001b[0m \u001b[0mtrain_status\u001b[0m\u001b[0;34m!=\u001b[0m\u001b[0;34m'TRAINED'\u001b[0m\u001b[0;34m:\u001b[0m\u001b[0;34m\u001b[0m\u001b[0;34m\u001b[0m\u001b[0m\n\u001b[1;32m     12\u001b[0m     \u001b[0mprint\u001b[0m \u001b[0;34m(\u001b[0m\u001b[0;34m\".\"\u001b[0m\u001b[0;34m)\u001b[0m\u001b[0;34m\u001b[0m\u001b[0;34m\u001b[0m\u001b[0m\n\u001b[0;32m---> 13\u001b[0;31m     \u001b[0mtime\u001b[0m\u001b[0;34m.\u001b[0m\u001b[0msleep\u001b[0m\u001b[0;34m(\u001b[0m\u001b[0;36m30\u001b[0m\u001b[0;34m)\u001b[0m\u001b[0;34m\u001b[0m\u001b[0;34m\u001b[0m\u001b[0m\n\u001b[0m\u001b[1;32m     14\u001b[0m \u001b[0;34m\u001b[0m\u001b[0m\n\u001b[1;32m     15\u001b[0m \u001b[0mprint\u001b[0m\u001b[0;34m(\u001b[0m\u001b[0;34m\"Training Completed\"\u001b[0m\u001b[0;34m)\u001b[0m\u001b[0;34m\u001b[0m\u001b[0;34m\u001b[0m\u001b[0m\n",
      "\u001b[0;31mKeyboardInterrupt\u001b[0m: "
     ]
    }
   ],
   "source": [
    "import time\n",
    "print (response[\"DocumentClassifierArn\"])\n",
    "print (response)\n",
    "modelarn=response[\"DocumentClassifierArn\"]\n",
    "response_des = client.describe_document_classifier(\n",
    "    DocumentClassifierArn=modelarn\n",
    ")\n",
    "print (response_des['DocumentClassifierProperties']['Status'])\n",
    "train_status=response_des['DocumentClassifierProperties']['Status']\n",
    "print (\"Training started\")\n",
    "while train_status!='TRAINED':\n",
    "    print (\".\")\n",
    "    time.sleep(30)\n",
    "    \n",
    "print(\"Training Completed\")"
   ]
  },
  {
   "cell_type": "code",
   "execution_count": 24,
   "id": "183c6e6e",
   "metadata": {},
   "outputs": [],
   "source": [
    "#create endpoint for the trained classifer\n",
    "response_ep = client.create_endpoint(\n",
    "    EndpointName='email-classifications',\n",
    "    ModelArn=modelarn,\n",
    "    DesiredInferenceUnits=1,\n",
    "    #ClientRequestToken='string',\n",
    "    Tags=[\n",
    "        {\n",
    "            'Key': 'Name',\n",
    "            'Value': 'email classification'\n",
    "        },\n",
    "    ],\n",
    "    DataAccessRoleArn=role\n",
    ")"
   ]
  },
  {
   "cell_type": "code",
   "execution_count": 36,
   "id": "655cf23c",
   "metadata": {},
   "outputs": [
    {
     "data": {
      "text/plain": [
       "'arn:aws:comprehend:us-west-2:709753484661:document-classifier-endpoint/email-classifications'"
      ]
     },
     "execution_count": 36,
     "metadata": {},
     "output_type": "execute_result"
    }
   ],
   "source": [
    "response_ep\n",
    "epurn=response_ep[\"EndpointArn\"]\n",
    "epurn"
   ]
  },
  {
   "cell_type": "code",
   "execution_count": 38,
   "id": "bd7cfcda",
   "metadata": {},
   "outputs": [
    {
     "data": {
      "text/plain": [
       "{'Classes': [{'Name': 'MONEYTRANSFER', 'Score': 0.6437000036239624},\n",
       "  {'Name': 'PROMOCODE', 'Score': 0.3562999963760376}],\n",
       " 'ResponseMetadata': {'RequestId': '0db2cb00-bb23-4b29-823d-c58823f64ac9',\n",
       "  'HTTPStatusCode': 200,\n",
       "  'HTTPHeaders': {'x-amzn-requestid': '0db2cb00-bb23-4b29-823d-c58823f64ac9',\n",
       "   'content-type': 'application/x-amz-json-1.1',\n",
       "   'content-length': '113',\n",
       "   'date': 'Fri, 14 May 2021 00:21:45 GMT'},\n",
       "  'RetryAttempts': 0}}"
      ]
     },
     "execution_count": 38,
     "metadata": {},
     "output_type": "execute_result"
    }
   ],
   "source": [
    "response_cd = client.classify_document(\n",
    "    Text='Can you send the status of the transaction id:278960001',\n",
    "    EndpointArn=epurn\n",
    ")\n",
    "response_cd"
   ]
  },
  {
   "cell_type": "code",
   "execution_count": null,
   "id": "240ffff6",
   "metadata": {},
   "outputs": [],
   "source": []
  }
 ],
 "metadata": {
  "kernelspec": {
   "display_name": "conda_python3",
   "language": "python",
   "name": "conda_python3"
  },
  "language_info": {
   "codemirror_mode": {
    "name": "ipython",
    "version": 3
   },
   "file_extension": ".py",
   "mimetype": "text/x-python",
   "name": "python",
   "nbconvert_exporter": "python",
   "pygments_lexer": "ipython3",
   "version": "3.6.13"
  }
 },
 "nbformat": 4,
 "nbformat_minor": 5
}
