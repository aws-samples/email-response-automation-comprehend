{
 "cells": [
  {
   "cell_type": "markdown",
   "id": "d4dec58a",
   "metadata": {},
   "source": [
    "# Comprehend Custom Classification Training & Deployment\n",
    "\n",
    "This notebook is used to develop the comprehend custom classification training and deployment. The same task/operation can be done using any IDE such as Cloud9 etc. Notebook is used here to give the glimpse of experience to the users about SageMaker.\n"
   ]
  },
  {
   "cell_type": "markdown",
   "id": "f2452ac6",
   "metadata": {},
   "source": [
    "Get the execution role for the notebook instance. This is the IAM role that you created for your notebook instance. You pass the role to the tuning job"
   ]
  },
  {
   "cell_type": "code",
   "execution_count": null,
   "id": "8f750a85",
   "metadata": {},
   "outputs": [],
   "source": [
    "from sagemaker import get_execution_role\n",
    "role = get_execution_role()\n",
    "role"
   ]
  },
  {
   "cell_type": "markdown",
   "id": "61201679",
   "metadata": {},
   "source": [
    "Initiate the Custom classifcation Training job. This will initiate the training job in comprehend service and produce the trained model.\n",
    "Note: You can get the bucket name from CDK output in the terminal from where you run this deployment."
   ]
  },
  {
   "cell_type": "code",
   "execution_count": null,
   "id": "c724aff1",
   "metadata": {},
   "outputs": [],
   "source": [
    "import boto3\n",
    "\n",
    "client = boto3.client('comprehend')\n",
    "\n",
    "response = client.create_document_classifier(\n",
    "    DocumentClassifierName='email-classifications-sample',# Enter the name of the classifier\n",
    "    DataAccessRoleArn=role,\n",
    "    InputDataConfig={\n",
    "        'S3Uri': 's3://<Bucket Name from CloudFormation stack resource section>/Comprehend_Training_Data.csv'\n",
    "    },# This is the public read only bucket having sample data. You can use your bucket for your data.\n",
    "    LanguageCode='en'\n",
    ")"
   ]
  },
  {
   "cell_type": "markdown",
   "id": "2e467de6",
   "metadata": {},
   "source": [
    "Checking the status of that training. This may take upto 20 mins. Please wait until you get the status \"Training Competed\""
   ]
  },
  {
   "cell_type": "code",
   "execution_count": null,
   "id": "5306999d",
   "metadata": {},
   "outputs": [],
   "source": [
    "import time\n",
    "modelarn=response[\"DocumentClassifierArn\"]\n",
    "response_des = client.describe_document_classifier(\n",
    "    DocumentClassifierArn=modelarn\n",
    ")\n",
    "print (response_des['DocumentClassifierProperties']['Status'])\n",
    "train_status=response_des['DocumentClassifierProperties']['Status']\n",
    "print (\"Training started\")\n",
    "while train_status!='TRAINED':\n",
    "    print (\".\")\n",
    "    time.sleep(30)\n",
    "    train_status=response_des['DocumentClassifierProperties']['Status']\n",
    "    \n",
    "print(\"Training Completed\")"
   ]
  },
  {
   "cell_type": "markdown",
   "id": "d58c9c1b",
   "metadata": {},
   "source": [
    "Creating Endpoint for the Trained model"
   ]
  },
  {
   "cell_type": "code",
   "execution_count": null,
   "id": "d7bba9c0",
   "metadata": {},
   "outputs": [],
   "source": [
    "#create endpoint for the trained classifer\n",
    "response_ep = client.create_endpoint(\n",
    "    EndpointName='email-classifications-endpoint',\n",
    "    ModelArn=modelarn,\n",
    "    DesiredInferenceUnits=1,# if you wan to deploy this multiple unit, you can enter more than one. \n",
    "    #ClientRequestToken='string',\n",
    "    Tags=[\n",
    "        {\n",
    "            'Key': 'Name',\n",
    "            'Value': 'email classification'\n",
    "        },\n",
    "    ],\n",
    "    DataAccessRoleArn=role\n",
    ")"
   ]
  },
  {
   "cell_type": "markdown",
   "id": "addc2dd2",
   "metadata": {},
   "source": [
    "Check the Endpoint ARN"
   ]
  },
  {
   "cell_type": "code",
   "execution_count": null,
   "id": "7aec822d",
   "metadata": {},
   "outputs": [],
   "source": [
    "response_ep\n",
    "eparn=response_ep[\"EndpointArn\"]\n",
    "eparn"
   ]
  },
  {
   "cell_type": "markdown",
   "id": "8e43da09",
   "metadata": {},
   "source": [
    "Now test the trined model by sending some sample sentences. Note: Please wait for few mins to deploy this model and endpoint gets created"
   ]
  },
  {
   "cell_type": "code",
   "execution_count": null,
   "id": "b160d83d",
   "metadata": {},
   "outputs": [],
   "source": [
    "response_cd = client.classify_document(\n",
    "    Text='Can you send the status of the transaction id:278960001',\n",
    "    EndpointArn=eparn\n",
    ")\n",
    "response_cd"
   ]
  },
  {
   "cell_type": "markdown",
   "id": "4b5f3bd6",
   "metadata": {},
   "source": [
    "Now this endpoint ARN will be used to classify emails coming from customer via Amazon WorkMail. You will use this ARN for your next CDK deployment"
   ]
  },
  {
   "cell_type": "markdown",
   "id": "bb346c57",
   "metadata": {},
   "source": [
    "## Now lets create the model for Entity Detection. \n",
    "\n",
    "If the above model clasify the incoming email as MONEYTRANSFER, we have to fetch the ststus of the transaction id given in that email. Money Transfer id will prefix with 'MTN' and followed by 7 digit numbers."
   ]
  },
  {
   "cell_type": "markdown",
   "id": "e5d0def3",
   "metadata": {},
   "source": [
    "### Entity Detection model training"
   ]
  },
  {
   "cell_type": "code",
   "execution_count": null,
   "id": "2bb42bca",
   "metadata": {},
   "outputs": [],
   "source": [
    "response = client.create_entity_recognizer(\n",
    "    RecognizerName='email-entity-detection-model',\n",
    "    DataAccessRoleArn = role,\n",
    "    InputDataConfig={\n",
    "        'DataFormat': 'COMPREHEND_CSV',\n",
    "        'EntityTypes': [\n",
    "            {\n",
    "                'Type': 'MTNID'\n",
    "            },\n",
    "        ],\n",
    "        'Documents': {\n",
    "            'S3Uri': 's3://shavgs-comprehend-training-bucket/input/Comprehend_raw_Data_entity_detection.csv'\n",
    "        },\n",
    "        'EntityList': {\n",
    "            'S3Uri': 's3://shavgs-comprehend-training-bucket/input/sample_entity_data.csv'\n",
    "        }\n",
    "    },\n",
    "    LanguageCode='en'\n",
    ")"
   ]
  },
  {
   "cell_type": "code",
   "execution_count": null,
   "id": "a97694df",
   "metadata": {},
   "outputs": [],
   "source": [
    "# Check whether training completed or not\n",
    "entmodelarn=response[\"EntityRecognizerArn\"]\n",
    "ent_response_des = client.describe_entity_recognizer(\n",
    "    EntityRecognizerArn=entmodelarn\n",
    ")\n",
    "print (ent_response_des['EntityRecognizerProperties']['Status'])\n",
    "ent_train_status=ent_response_des['EntityRecognizerProperties']['Status']\n",
    "print (\"Training started\")\n",
    "while ent_train_status!='TRAINED':\n",
    "    print (\".\")\n",
    "    time.sleep(30)\n",
    "    ent_train_status=response_des['EntityRecognizerProperties']['Status']\n",
    "    \n",
    "print(\"Training Completed\")\n",
    "print(entmodelarn)"
   ]
  },
  {
   "cell_type": "code",
   "execution_count": null,
   "id": "c877192c",
   "metadata": {},
   "outputs": [],
   "source": [
    "# Deploy the model by creating endpoint for this entity detection\n",
    "ent_response_ep = client.create_endpoint(\n",
    "    EndpointName='email-entity-detection-endpoint',\n",
    "    ModelArn=entmodelarn,\n",
    "    DesiredInferenceUnits=1,# if you wan to deploy this multiple unit, you can enter more than one. \n",
    "    #ClientRequestToken='string',\n",
    "    Tags=[\n",
    "        {\n",
    "            'Key': 'Name',\n",
    "            'Value': 'email entity detection'\n",
    "        },\n",
    "    ],\n",
    "    DataAccessRoleArn=role\n",
    ")"
   ]
  },
  {
   "cell_type": "code",
   "execution_count": null,
   "id": "62ac4c8f",
   "metadata": {},
   "outputs": [],
   "source": [
    "ent_eparn=ent_response_ep[\"EndpointArn\"]\n",
    "ent_eparn"
   ]
  },
  {
   "cell_type": "markdown",
   "id": "9b32fb8e",
   "metadata": {},
   "source": [
    "Now test the trined model by sending some sample sentences. Note: Please wait for few mins to deploy this model and endpoint gets created"
   ]
  },
  {
   "cell_type": "code",
   "execution_count": null,
   "id": "ee689918",
   "metadata": {},
   "outputs": [],
   "source": [
    "\n",
    "ent_response = client.detect_entities(\n",
    "    Text='Can you send the status of the transaction id: MTN2780001',\n",
    "    LanguageCode='en',\n",
    "    EndpointArn=ent_eparn\n",
    ")\n",
    "print (ent_response)"
   ]
  },
  {
   "cell_type": "markdown",
   "id": "d814a35d",
   "metadata": {},
   "source": [
    "Please use this ARN while you deploy the CDK stack in next steps"
   ]
  }
 ],
 "metadata": {
  "kernelspec": {
   "display_name": "conda_python3",
   "language": "python",
   "name": "conda_python3"
  },
  "language_info": {
   "codemirror_mode": {
    "name": "ipython",
    "version": 3
   },
   "file_extension": ".py",
   "mimetype": "text/x-python",
   "name": "python",
   "nbconvert_exporter": "python",
   "pygments_lexer": "ipython3",
   "version": "3.6.13"
  }
 },
 "nbformat": 4,
 "nbformat_minor": 5
}
