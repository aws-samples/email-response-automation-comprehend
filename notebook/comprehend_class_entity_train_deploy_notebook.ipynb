{
 "cells": [
  {
   "cell_type": "markdown",
   "source": [
    "# Comprehend Custom Classification and Entity Detection Training & Deployment\n",
    "\n",
    "This notebook is used to develop the comprehend custom classification and entity detection training and deployment. The same task/operation can be done using any IDE such as Cloud9 etc. Notebook is used here to give the glimpse of experience to the users about Amazon SageMaker service\n"
   ],
   "metadata": {}
  },
  {
   "cell_type": "markdown",
   "source": [
    "Get the execution role for the notebook instance. This is the IAM role that you created for your notebook instance. You pass the role to the tuning job"
   ],
   "metadata": {}
  },
  {
   "cell_type": "code",
   "execution_count": null,
   "source": [
    "from sagemaker import get_execution_role\n",
    "role = get_execution_role()\n",
    "role"
   ],
   "outputs": [],
   "metadata": {}
  },
  {
   "cell_type": "markdown",
   "source": [
    "Initiate the Custom classifcation Training job. This will initiate the training job in comprehend service and produce the trained model.\n",
    "Note: You can get the bucket name from CDK output in the terminal from where you run this deployment."
   ],
   "metadata": {}
  },
  {
   "cell_type": "code",
   "execution_count": null,
   "source": [
    "import boto3\n",
    "\n",
    "client = boto3.client('comprehend')\n",
    "\n",
    "response = client.create_document_classifier(\n",
    "    DocumentClassifierName='email-classifications-sample',# Enter the name of the classifier\n",
    "    DataAccessRoleArn=role,\n",
    "    InputDataConfig={\n",
    "        'S3Uri': 's3://<Bucket Name from CDK stack resource output>/Comprehend_Training_Data.csv'\n",
    "    },# This is the public read only bucket having sample data. You can use your bucket for your data.\n",
    "    LanguageCode='en'\n",
    ")"
   ],
   "outputs": [],
   "metadata": {}
  },
  {
   "cell_type": "markdown",
   "source": [
    "Checking the status of that training. This may take upto 20 mins. Please wait until you get the status \"Training Competed\""
   ],
   "metadata": {}
  },
  {
   "cell_type": "code",
   "execution_count": null,
   "source": [
    "import time\n",
    "modelarn=response[\"DocumentClassifierArn\"]\n",
    "response_des = client.describe_document_classifier(\n",
    "    DocumentClassifierArn=modelarn\n",
    ")\n",
    "print (response_des['DocumentClassifierProperties']['Status'])\n",
    "train_status=response_des['DocumentClassifierProperties']['Status']\n",
    "print (\"Training started\")\n",
    "while train_status!='TRAINED':\n",
    "    print (\"Status of the training is :\" + train_status)\n",
    "    time.sleep(30)\n",
    "    response_des = client.describe_document_classifier(DocumentClassifierArn=modelarn)\n",
    "    train_status=response_des['DocumentClassifierProperties']['Status']\n",
    "    \n",
    "print(\"Training Completed\")"
   ],
   "outputs": [],
   "metadata": {}
  },
  {
   "cell_type": "markdown",
   "source": [
    "Creating Endpoint for the Trained model"
   ],
   "metadata": {}
  },
  {
   "cell_type": "code",
   "execution_count": null,
   "source": [
    "#create endpoint for the trained classifer\n",
    "response_ep = client.create_endpoint(\n",
    "    EndpointName='email-classifications-endpoint',\n",
    "    ModelArn=modelarn,\n",
    "    DesiredInferenceUnits=1,# if you wan to deploy this multiple unit, you can enter more than one. \n",
    "    #ClientRequestToken='string',\n",
    "    Tags=[\n",
    "        {\n",
    "            'Key': 'Name',\n",
    "            'Value': 'email classification'\n",
    "        },\n",
    "    ],\n",
    "    DataAccessRoleArn=role\n",
    ")"
   ],
   "outputs": [],
   "metadata": {}
  },
  {
   "cell_type": "markdown",
   "source": [
    "Check the Endpoint ARN"
   ],
   "metadata": {}
  },
  {
   "cell_type": "code",
   "execution_count": null,
   "source": [
    "response_ep\n",
    "eparn=response_ep[\"EndpointArn\"]\n",
    "eparn"
   ],
   "outputs": [],
   "metadata": {}
  },
  {
   "cell_type": "markdown",
   "source": [
    "Now test the trined model by sending some sample sentences. Note: Please wait for few mins to deploy this model and endpoint gets created"
   ],
   "metadata": {}
  },
  {
   "cell_type": "code",
   "execution_count": null,
   "source": [
    "response_cd = client.classify_document(\n",
    "    Text='Can you send the status of the transaction id:278960001',\n",
    "    EndpointArn=eparn\n",
    ")\n",
    "response_cd"
   ],
   "outputs": [],
   "metadata": {}
  },
  {
   "cell_type": "markdown",
   "source": [
    "Now this endpoint ARN will be used to classify emails coming from customer via Amazon WorkMail. You will use this ARN for your next CDK deployment"
   ],
   "metadata": {}
  },
  {
   "cell_type": "markdown",
   "source": [
    "## Now lets create the model for Entity Detection. \n",
    "\n",
    "If the above model clasify the incoming email as MONEYTRANSFER, we have to fetch the ststus of the transaction id given in that email. Money Transfer id will prefix with 'MTN' and followed by 7 digit numbers."
   ],
   "metadata": {}
  },
  {
   "cell_type": "markdown",
   "source": [
    "### Entity Detection model training"
   ],
   "metadata": {}
  },
  {
   "cell_type": "code",
   "execution_count": null,
   "source": [
    "response = client.create_entity_recognizer(\n",
    "    RecognizerName='email-entity-detection-model',\n",
    "    DataAccessRoleArn = role,\n",
    "    InputDataConfig={\n",
    "        'DataFormat': 'COMPREHEND_CSV',\n",
    "        'EntityTypes': [\n",
    "            {\n",
    "                'Type': 'MTNID'\n",
    "            },\n",
    "        ],\n",
    "        'Documents': {\n",
    "            'S3Uri': 's3://<Bucket Name from CDK stack resource output>/Comprehend_raw_Data_entity_detection.csv'\n",
    "        },\n",
    "        'EntityList': {\n",
    "            'S3Uri': 's3://<Bucket Name from CDK stack resource output>/sample_entity_data.csv'\n",
    "        }\n",
    "    },\n",
    "    LanguageCode='en'\n",
    ")"
   ],
   "outputs": [],
   "metadata": {}
  },
  {
   "cell_type": "code",
   "execution_count": null,
   "source": [
    "# Check whether training completed or not\n",
    "entmodelarn=response[\"EntityRecognizerArn\"]\n",
    "ent_response_des = client.describe_entity_recognizer(\n",
    "    EntityRecognizerArn=entmodelarn\n",
    ")\n",
    "print (ent_response_des['EntityRecognizerProperties']['Status'])\n",
    "ent_train_status=ent_response_des['EntityRecognizerProperties']['Status']\n",
    "print (\"Training started\")\n",
    "while ent_train_status!='TRAINED':\n",
    "    print (\".\")\n",
    "    time.sleep(30)\n",
    "    ent_response_des = client.describe_entity_recognizer(EntityRecognizerArn=entmodelarn)\n",
    "    ent_train_status=ent_response_des['EntityRecognizerProperties']['Status']\n",
    "    \n",
    "print(\"Training Completed\")\n",
    "print(entmodelarn)"
   ],
   "outputs": [],
   "metadata": {}
  },
  {
   "cell_type": "code",
   "execution_count": null,
   "source": [
    "# Deploy the model by creating endpoint for this entity detection\n",
    "ent_response_ep = client.create_endpoint(\n",
    "    EndpointName='email-entity-detection-endpoint',\n",
    "    ModelArn=entmodelarn,\n",
    "    DesiredInferenceUnits=1,# if you wan to deploy this multiple unit, you can enter more than one. \n",
    "    #ClientRequestToken='string',\n",
    "    Tags=[\n",
    "        {\n",
    "            'Key': 'Name',\n",
    "            'Value': 'email entity detection'\n",
    "        },\n",
    "    ],\n",
    "    DataAccessRoleArn=role\n",
    ")"
   ],
   "outputs": [],
   "metadata": {}
  },
  {
   "cell_type": "code",
   "execution_count": null,
   "source": [
    "ent_eparn=ent_response_ep[\"EndpointArn\"]\n",
    "ent_eparn"
   ],
   "outputs": [],
   "metadata": {}
  },
  {
   "cell_type": "markdown",
   "source": [
    "Now test the trined model by sending some sample sentences. Note: Please wait for few mins to deploy this model and endpoint gets created"
   ],
   "metadata": {}
  },
  {
   "cell_type": "code",
   "execution_count": null,
   "source": [
    "\n",
    "ent_response = client.detect_entities(\n",
    "    Text='Can you send the status of the transaction id: MTN2780001',\n",
    "    LanguageCode='en',\n",
    "    EndpointArn=ent_eparn\n",
    ")\n",
    "print (ent_response)"
   ],
   "outputs": [],
   "metadata": {}
  },
  {
   "cell_type": "markdown",
   "source": [
    "Please use this ARN while you deploy the CDK stack in next steps"
   ],
   "metadata": {}
  }
 ],
 "metadata": {
  "kernelspec": {
   "display_name": "conda_python3",
   "language": "python",
   "name": "conda_python3"
  },
  "language_info": {
   "codemirror_mode": {
    "name": "ipython",
    "version": 3
   },
   "file_extension": ".py",
   "mimetype": "text/x-python",
   "name": "python",
   "nbconvert_exporter": "python",
   "pygments_lexer": "ipython3",
   "version": "3.6.13"
  }
 },
 "nbformat": 4,
 "nbformat_minor": 5
}