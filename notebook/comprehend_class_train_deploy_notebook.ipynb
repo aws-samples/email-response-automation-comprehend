{
 "cells": [
  {
   "cell_type": "markdown",
   "id": "5ea06775",
   "metadata": {},
   "source": [
    "# Comprehend Custom Classification Training & Deployment\n",
    "\n",
    "This notebook is used to develop the comprehend custom classification training and deployment. The same task/operation can be done using any IDE such as Cloud9 etc. Notebook is used here to give the glimpse of experience to the users about SageMaker.\n"
   ]
  },
  {
   "cell_type": "markdown",
   "id": "c6cb94ea",
   "metadata": {},
   "source": [
    "Get the execution role for the notebook instance. This is the IAM role that you created for your notebook instance. You pass the role to the tuning job"
   ]
  },
  {
   "cell_type": "markdown",
   "id": "ca7282d6",
   "metadata": {},
   "source": [
    "Important Note: This notebook should be executed from us-east-1 since the sample S3 bucket and data is located in us-east-1"
   ]
  },
  {
   "cell_type": "code",
   "execution_count": null,
   "id": "6a92d91a",
   "metadata": {},
   "outputs": [],
   "source": [
    "from sagemaker import get_execution_role\n",
    "role = get_execution_role()\n",
    "role"
   ]
  },
  {
   "cell_type": "markdown",
   "id": "3cbbf59b",
   "metadata": {},
   "source": [
    "Initiate the Custom classifcation Training job. This will initiate the training job in comprehend service and produce the trained model.\n",
    "Note: You can get the bucket name from CloudFormation stack resource section in the AWS console by searching 'AWS::S3::Bucket'. Bucket name will be in 'Physical ID' column."
   ]
  },
  {
   "cell_type": "code",
   "execution_count": null,
   "id": "bbb94a85",
   "metadata": {},
   "outputs": [],
   "source": [
    "import boto3\n",
    "\n",
    "client = boto3.client('comprehend')\n",
    "\n",
    "response = client.create_document_classifier(\n",
    "    DocumentClassifierName='email-classifications-sample',# Enter the name of the classifier\n",
    "    DataAccessRoleArn=role,\n",
    "    InputDataConfig={\n",
    "        'S3Uri': 's3://<Bucket Name from CloudFormation stack resource section>/Comprehend_Training_Data.csv'\n",
    "    },# This is the public read only bucket having sample data. You can use your bucket for your data.\n",
    "    LanguageCode='en'\n",
    ")"
   ]
  },
  {
   "cell_type": "markdown",
   "id": "4138bf6a",
   "metadata": {},
   "source": [
    "Checking the status of that training. This may take upto 20 mins. Please wait until you get the status \"Training Competed\""
   ]
  },
  {
   "cell_type": "code",
   "execution_count": null,
   "id": "2c314b83",
   "metadata": {},
   "outputs": [],
   "source": [
    "import time\n",
    "modelarn=response[\"DocumentClassifierArn\"]\n",
    "response_des = client.describe_document_classifier(\n",
    "    DocumentClassifierArn=modelarn\n",
    ")\n",
    "print (response_des['DocumentClassifierProperties']['Status'])\n",
    "train_status=response_des['DocumentClassifierProperties']['Status']\n",
    "print (\"Training started\")\n",
    "while train_status!='TRAINED':\n",
    "    print (\".\")\n",
    "    time.sleep(30)\n",
    "    \n",
    "print(\"Training Completed\")"
   ]
  },
  {
   "cell_type": "markdown",
   "id": "e8f8dfa3",
   "metadata": {},
   "source": [
    "Creating Endpoint for the Trained model"
   ]
  },
  {
   "cell_type": "code",
   "execution_count": null,
   "id": "c9a77542",
   "metadata": {},
   "outputs": [],
   "source": [
    "#create endpoint for the trained classifer\n",
    "response_ep = client.create_endpoint(\n",
    "    EndpointName='email-classifications',\n",
    "    ModelArn=modelarn,\n",
    "    DesiredInferenceUnits=1,# if you wan to deploy this multiple unit, you can enter more than one. \n",
    "    #ClientRequestToken='string',\n",
    "    Tags=[\n",
    "        {\n",
    "            'Key': 'Name',\n",
    "            'Value': 'email classification'\n",
    "        },\n",
    "    ],\n",
    "    DataAccessRoleArn=role\n",
    ")"
   ]
  },
  {
   "cell_type": "markdown",
   "id": "c9fe586a",
   "metadata": {},
   "source": [
    "Check the Endpoint ARN"
   ]
  },
  {
   "cell_type": "code",
   "execution_count": null,
   "id": "7e8a5ee1",
   "metadata": {},
   "outputs": [],
   "source": [
    "response_ep\n",
    "eparn=response_ep[\"EndpointArn\"]\n",
    "eparn"
   ]
  },
  {
   "cell_type": "markdown",
   "id": "6f4c63d9",
   "metadata": {},
   "source": [
    "Now test the trined model by sending some sample sentences"
   ]
  },
  {
   "cell_type": "code",
   "execution_count": null,
   "id": "2bc7d6bc",
   "metadata": {},
   "outputs": [],
   "source": [
    "response_cd = client.classify_document(\n",
    "    Text='Can you send the status of the transaction id:278960001',\n",
    "    EndpointArn=eparn\n",
    ")\n",
    "response_cd"
   ]
  },
  {
   "cell_type": "markdown",
   "id": "44a2624f",
   "metadata": {},
   "source": [
    "Now this endpoint will be used to classify emails coming from customer via Amazon WorkMail "
   ]
  }
 ],
 "metadata": {
  "kernelspec": {
   "display_name": "conda_python3",
   "language": "python",
   "name": "conda_python3"
  },
  "language_info": {
   "codemirror_mode": {
    "name": "ipython",
    "version": 3
   },
   "file_extension": ".py",
   "mimetype": "text/x-python",
   "name": "python",
   "nbconvert_exporter": "python",
   "pygments_lexer": "ipython3",
   "version": "3.6.13"
  }
 },
 "nbformat": 4,
 "nbformat_minor": 5
}
